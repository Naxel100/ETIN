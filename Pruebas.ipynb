{
 "cells": [
  {
   "cell_type": "code",
   "execution_count": 1,
   "id": "3c2343ae",
   "metadata": {},
   "outputs": [],
   "source": [
    "from scripts.etin import ETIN\n",
    "\n",
    "import yaml\n",
    "import torch\n",
    "import pandas as pd\n",
    "import plotly.express as px\n",
    "import plotly.graph_objs as go\n",
    "\n",
    "class DotDict(dict):     \n",
    "    \"\"\"dot.notation access to dictionary attributes\"\"\"      \n",
    "    def __getattr__(*args):         \n",
    "        val = dict.get(*args)        \n",
    "        return DotDict(val) if type(val) is dict else val              \n",
    "    __setattr__ = dict.__setitem__     \n",
    "    __delattr__ = dict.__delitem__\n",
    "\n",
    "\n",
    "with open(\"./config/config.yaml\", 'r') as stream:\n",
    "    config = yaml.safe_load(stream)\n",
    "\n",
    "config = DotDict(config)"
   ]
  },
  {
   "cell_type": "code",
   "execution_count": 2,
   "id": "b1a352b9",
   "metadata": {},
   "outputs": [
    {
     "name": "stderr",
     "output_type": "stream",
     "text": [
      "Global seed set to 10\n"
     ]
    }
   ],
   "source": [
    "import importlib\n",
    "import scripts.etin\n",
    "importlib.reload(scripts.etin)\n",
    "import scripts.model\n",
    "importlib.reload(scripts.model)\n",
    "\n",
    "etin = scripts.etin.ETIN(config.Language, config.Model, seed=10)"
   ]
  },
  {
   "cell_type": "code",
   "execution_count": 3,
   "id": "cfbb6e8b",
   "metadata": {},
   "outputs": [],
   "source": [
    "import numpy as np\n",
    "\n",
    "lower_bound = np.random.uniform(0.05, 6, size=3)  # Lower bound of the variables\n",
    "upper_bound = [np.random.uniform(lower_bound[i] + 1, 10) for i in range(3)] # Upper bound of the variables\n",
    "X = np.concatenate([np.random.uniform(lower_bound[i], upper_bound[i], (100, 1)) for i in range(3)], axis=1)\n",
    "\n",
    "def f(X):\n",
    "    res = []\n",
    "    for i in range(X.shape[0]):\n",
    "        res.append(np.sin(X[i, 0]) + 1)\n",
    "    return np.array(res)\n",
    "\n",
    "y = f(X)"
   ]
  },
  {
   "cell_type": "code",
   "execution_count": 4,
   "id": "79373857",
   "metadata": {},
   "outputs": [
    {
     "name": "stdout",
     "output_type": "stream",
     "text": [
      "8.913851022720337\n"
     ]
    }
   ],
   "source": [
    "import time\n",
    "ini = time.time()\n",
    "res = etin.get_expression(X, y)\n",
    "print(time.time() - ini)"
   ]
  }
 ],
 "metadata": {
  "kernelspec": {
   "display_name": "Python 3 (ipykernel)",
   "language": "python",
   "name": "python3"
  },
  "language_info": {
   "codemirror_mode": {
    "name": "ipython",
    "version": 3
   },
   "file_extension": ".py",
   "mimetype": "text/x-python",
   "name": "python",
   "nbconvert_exporter": "python",
   "pygments_lexer": "ipython3",
   "version": "3.8.13"
  },
  "latex_envs": {
   "LaTeX_envs_menu_present": true,
   "autoclose": false,
   "autocomplete": true,
   "bibliofile": "biblio.bib",
   "cite_by": "apalike",
   "current_citInitial": 1,
   "eqLabelWithNumbers": true,
   "eqNumInitial": 1,
   "hotkeys": {
    "equation": "Ctrl-E",
    "itemize": "Ctrl-I"
   },
   "labels_anchors": false,
   "latex_user_defs": false,
   "report_style_numbering": false,
   "user_envs_cfg": false
  },
  "toc": {
   "base_numbering": 1,
   "nav_menu": {},
   "number_sections": true,
   "sideBar": true,
   "skip_h1_title": false,
   "title_cell": "Table of Contents",
   "title_sidebar": "Contents",
   "toc_cell": false,
   "toc_position": {},
   "toc_section_display": true,
   "toc_window_display": false
  }
 },
 "nbformat": 4,
 "nbformat_minor": 5
}
