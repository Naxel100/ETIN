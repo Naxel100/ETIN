{
 "cells": [
  {
   "cell_type": "code",
   "execution_count": 1,
   "id": "3c2343ae",
   "metadata": {},
   "outputs": [],
   "source": [
    "from scripts.etin import ETIN\n",
    "\n",
    "import yaml\n",
    "import torch\n",
    "import pandas as pd\n",
    "import plotly.express as px\n",
    "import plotly.graph_objs as go\n",
    "\n",
    "class DotDict(dict):     \n",
    "    \"\"\"dot.notation access to dictionary attributes\"\"\"      \n",
    "    def __getattr__(*args):         \n",
    "        val = dict.get(*args)        \n",
    "        return DotDict(val) if type(val) is dict else val              \n",
    "    __setattr__ = dict.__setitem__     \n",
    "    __delattr__ = dict.__delitem__\n",
    "\n",
    "\n",
    "with open(\"./config/config.yaml\", 'r') as stream:\n",
    "    config = yaml.safe_load(stream)\n",
    "\n",
    "config = DotDict(config)"
   ]
  },
  {
   "cell_type": "code",
   "execution_count": 2,
   "id": "57cb3b70",
   "metadata": {},
   "outputs": [
    {
     "data": {
      "text/plain": [
       "'/home/gridsan/amorenas/ETIN3/outputs/rl_000_nb_5/model_500000.pt'"
      ]
     },
     "execution_count": 2,
     "metadata": {},
     "output_type": "execute_result"
    }
   ],
   "source": [
    "config.Model.from_path"
   ]
  },
  {
   "cell_type": "code",
   "execution_count": 3,
   "id": "9bef989c",
   "metadata": {},
   "outputs": [
    {
     "data": {
      "text/plain": [
       "True"
      ]
     },
     "execution_count": 3,
     "metadata": {},
     "output_type": "execute_result"
    }
   ],
   "source": [
    "torch.cuda.is_available()"
   ]
  },
  {
   "cell_type": "markdown",
   "id": "0006902c",
   "metadata": {},
   "source": [
    "# Pruebas TaSR"
   ]
  },
  {
   "cell_type": "markdown",
   "id": "c6bd8510",
   "metadata": {},
   "source": [
    "## My data"
   ]
  },
  {
   "cell_type": "code",
   "execution_count": 4,
   "id": "84dec8ce",
   "metadata": {},
   "outputs": [
    {
     "name": "stderr",
     "output_type": "stream",
     "text": [
      "Global seed set to 99\n",
      "/home/gridsan/amorenas/ETIN3/scripts/expression.py:88: RuntimeWarning: overflow encountered in exp\n",
      "  stack.append(function.function(first_operand))\n"
     ]
    },
    {
     "name": "stdout",
     "output_type": "stream",
     "text": [
      "0.2714838981628418\n"
     ]
    }
   ],
   "source": [
    "from scripts.dclasses import Dataset\n",
    "from scripts.language import Language\n",
    "from pytorch_lightning.utilities.seed import seed_everything\n",
    "\n",
    "seed_everything(99)\n",
    "\n",
    "n_functions = 500\n",
    "import time\n",
    "language = Language(config.Language)\n",
    "ini = time.time()\n",
    "data = Dataset(n_functions, language)\n",
    "print(time.time() - ini)"
   ]
  },
  {
   "cell_type": "code",
   "execution_count": 5,
   "id": "2078243c",
   "metadata": {},
   "outputs": [
    {
     "name": "stderr",
     "output_type": "stream",
     "text": [
      "Global seed set to 10\n"
     ]
    }
   ],
   "source": [
    "import importlib\n",
    "import scripts.etin\n",
    "importlib.reload(scripts.etin)\n",
    "import scripts.model\n",
    "importlib.reload(scripts.model)\n",
    "\n",
    "etin = scripts.etin.ETIN(config.Language, config.Model, seed=10)"
   ]
  },
  {
   "cell_type": "code",
   "execution_count": null,
   "id": "dbc1fbb9",
   "metadata": {},
   "outputs": [],
   "source": [
    "import torch\n",
    "\n",
    "data = torch.load('../NeuralSymbolicRegressionThatScales-main/tensor.pt')\n"
   ]
  },
  {
   "cell_type": "code",
   "execution_count": null,
   "id": "9fd7beec",
   "metadata": {},
   "outputs": [],
   "source": [
    "expressions = [('1.41421*exp(-x_1**2/2)/3.54491' , {'x_1': (1,3)}),\n",
    "               ('1.41421*exp(-x_2**2/(2*x_1**2))/(3.54491*x_1)', {'x_1': (1,3), 'x_2': (1,3)}),\n",
    "               ('1.41421*exp(-(x_2-x_3)**2/(2*x_1**2))/(3.54491*x_1)', {'x_1': (1,3), 'x_2': (1,3), 'x_3': (1,3)}),\n",
    "               ('x_1/sqrt(-x_2**2/x_3**2 + 1)', {'x_1': (1,5), 'x_2': (1,2), 'x_3': (3,10)}),\n",
    "               ('x_1*x_2', {'x_1': (1,5), 'x_2': (1,5)}),\n",
    "               ('x_1/(12.56637*x_2*x_3**2)', {'x_1': (1,5), 'x_2': (1,5), 'x_3': (1, 5)}),\n",
    "               ('x_1*x_2*x_3', {'x_1': (1,5), 'x_2': (1,5), 'x_3': (1, 5)}),\n",
    "               ('x_1**2*x_2/2', {'x_1': (1,5), 'x_2': (1,5)}),\n",
    "               ('x_1*x_2/sqrt(-x_2**2/x_3**2 + 1)', {'x_1': (1,5), 'x_2': (1,2), 'x_3': (3,10)}),\n",
    "               ('x_1*x_2*sin(x_3)', {'x_1': (1,5), 'x_2': (1,5), 'x_3': (0, 5)}),\n",
    "               ('x_1/x_2', {'x_1': (1,10), 'x_2': (1,10)}),\n",
    "               ('1/(x_3/x_2 + 1/x_1)', {'x_1': (1,5), 'x_2': (1,5), 'x_3': (1, 5)}),\n",
    "               ('x_1*sin(x_2*x_3/2)**2/sin(x_2/2)**2', {'x_1': (1,5), 'x_2': (1,5), 'x_3': (1, 5)}),\n",
    "               ('x_3/(1-x_2/x_1)', {'x_1': (1,5), 'x_2': (1,5), 'x_3': (1, 5)}),\n",
    "               ('x_3*(1 + x_2/x_1)/sqrt(1 - x_2**2/x_1**2)', {'x_1': (3,10), 'x_2': (1,2), 'x_3': (1, 5)}),\n",
    "               ('x_1*x_2/6.28318', {'x_1': (1,5), 'x_2': (1,5)}),\n",
    "               ('x_1 + x_2 + 2*sqrt(x_1*x_2)*cos(x_3)', {'x_1': (1,5), 'x_2': (1,5), 'x_3': (1, 5)}),\n",
    "               ('x_1*x_2*3/2', {'x_1': (1,5), 'x_2': (1,5)}),\n",
    "               ('x_2*x_3/(x_1 - 1)', {'x_1': (2,5), 'x_2': (1,5), 'x_3': (1, 5)}),\n",
    "               ('x_1*x_2*x_3', {'x_1': (1,5), 'x_2': (1,5), 'x_3': (1, 5)}),\n",
    "               ('sqrt(x_1*x_2/x_3)', {'x_1': (1,5), 'x_2': (1,5), 'x_3': (1, 5)}),\n",
    "               ('x_1*x_3**2/sqrt(-x_2**2/x_3**2 + 1)', {'x_1': (1,5), 'x_2': (1,2), 'x_3': (3,10)}),\n",
    "               ('x_1/(12.56637*x_2**2)', {'x_1': (1,5), 'x_2': (1,5)}),\n",
    "               ('x_1/(12.56637*x_2*x_3)', {'x_1': (1,5), 'x_2': (1,5), 'x_3': (1,5)}),\n",
    "               ('3*x_1**2/(63.83185*x_2*x_3)', {'x_1': (1,5), 'x_2': (1,5), 'x_3': (1,5)}),\n",
    "               ('x_1*x_2**2/2', {'x_1': (1,5), 'x_2': (1,5)}),\n",
    "               ('x_1/(x_2*(x_3 + 1))', {'x_1': (1,5), 'x_2': (1,5), 'x_3': (1,5)}),\n",
    "               ('x_1*x_2/(-x_1*x_2/3 + 1) + 1', {'x_1': (0,1), 'x_2': (0,1)}),\n",
    "               ('-x_1*x_2*cos(x_3)', {'x_1': (1,5), 'x_2': (1,5), 'x_3': (1,5)}),\n",
    "               ('sqrt(x_1**2/x_2**2 - 9.8696/x_3**2)', {'x_1': (4,6), 'x_2': (1,2), 'x_3': (2,4)}),\n",
    "               ('x_1*x_2*x_3**2', {'x_1': (1,5), 'x_2': (1,5), 'x_3': (1,5)}),\n",
    "               ('x_1*x_2**2', {'x_1': (1,5), 'x_2': (1,5)}),\n",
    "               ('x_1*x_2/(x_3*6.283185)', {'x_1': (1,5), 'x_2': (1,5), 'x_3': (1,5)}),\n",
    "               ('x_1*x_2/(12.56637*x_3)', {'x_1': (1,5), 'x_2': (1,5), 'x_3': (1,5)}),\n",
    "               ('x_1*x_2*(x_3 + 1)', {'x_1': (1,5), 'x_2': (1,5), 'x_3': (1,5)}),\n",
    "               ('12.56637*x_1*x_2/x_3', {'x_1': (1,5), 'x_2': (1,5), 'x_3': (1,5)}),\n",
    "               ('x_1/(2*x_2 + 2)', {'x_1': (1,5), 'x_2': (1,5)}),\n",
    "               ('sin(6.283185*x_1*x_2/x_3)', {'x_1': (1,2), 'x_2': (1,2), 'x_3': (1,4)}),\n",
    "               ('x_1*x_2/6.283185', {'x_1': (1,5), 'x_2': (1,5)}),\n",
    "               ('2*x_1*(1-cos(x_2*x_3))', {'x_1': (1,5), 'x_2': (1,5), 'x_3': (1,5)}),\n",
    "               ('x_1**2/(78.9568*x_2*x_3**2)', {'x_1': (1,5), 'x_2': (1,5), 'x_3': (1,5)}),\n",
    "               ('6.283185*x_1/(x_2*x_3)', {'x_1': (1,5), 'x_2': (1,5), 'x_3': (1,5)}),\n",
    "               ('x_1*(x_2*cos(x_3) + 1)', {'x_1': (1,5), 'x_2': (1,5), 'x_3': (1,5)}),\n",
    "              ]"
   ]
  },
  {
   "cell_type": "code",
   "execution_count": null,
   "id": "674b4aa3",
   "metadata": {},
   "outputs": [],
   "source": [
    "data.shape"
   ]
  },
  {
   "cell_type": "code",
   "execution_count": 7,
   "id": "a5e8d9f8",
   "metadata": {
    "scrolled": true
   },
   "outputs": [
    {
     "name": "stdout",
     "output_type": "stream",
     "text": [
      "0.\n",
      "    Target Expression: 0.227533690005004*x3*(0.989709509399742*x1 + x2)**2\n",
      "    Found Expression: -x3*(2.94323347169659e-7*x1 - 0.227534839883714)*(0.98971716496549*x1 + x2)**2\n",
      "    MSE: 0.00042668520974845726\n",
      "    NMSE: 2.8201899418137458e-06\n",
      "    Complexity: 14\n",
      "    Elapsed Time: 15.100127220153809\n",
      "\n",
      "Recovered!\n",
      "1.\n",
      "    Target Expression: -(x1 - 1.49924455795988*x3)*(x2 + 1.82845208039039*x3 + 0.454945800594278)\n",
      "    Found Expression: -(0.668494495403671*x1 - x3)*(1.5381168366255*x2 + 2.80398245825578*x3)\n",
      "    MSE: 0.7602289261748513\n",
      "    NMSE: 0.008457326975314757\n",
      "    Complexity: 13\n",
      "    Elapsed Time: 11.345561265945435\n",
      "\n",
      "2.\n",
      "    Target Expression: 1.41141332103993*x2\n",
      "    Found Expression: 1.41125433276563*x2\n",
      "    MSE: 0.0004897227444573539\n",
      "    NMSE: 0.00012681822636451698\n",
      "    Complexity: 3\n",
      "    Elapsed Time: 2.449228525161743\n",
      "\n",
      "Recovered!\n",
      "3.\n",
      "    Target Expression: x2*(-0.433169900610951*x1 + 3.3637564434808*x2**2 - 3.3637564434808*x3)/(x2**2 - x3)\n",
      "    Found Expression: (3.32178615149254*x2*(0.241873580393032*x1 - x2) + 0.167268534498908)/(0.241873580393032*x1 - x2)\n",
      "    MSE: 3.0522323150431387\n",
      "    NMSE: 0.3061653753946462\n",
      "    Complexity: 12\n",
      "    Elapsed Time: 14.509920597076416\n",
      "\n",
      "4.\n",
      "    Target Expression: exp(x3)\n",
      "    Found Expression: exp(x3) + 0.000406593096219376\n",
      "    MSE: 7.698395990488643e-09\n",
      "    NMSE: 1.961861990223619e-12\n",
      "    Complexity: 4\n",
      "    Elapsed Time: 1.465613842010498\n",
      "\n",
      "Recovered!\n",
      "5.\n",
      "    Target Expression: sin(x3)\n",
      "    Found Expression: sin(x3) + 0.00107074659933476\n",
      "    MSE: 3.537696641165399e-09\n",
      "    NMSE: 5.142095115583669e-09\n",
      "    Complexity: 4\n",
      "    Elapsed Time: 0.08672904968261719\n",
      "\n",
      "6.\n",
      "    Target Expression: -x1 + x2 - x3 + 1.13781348977059\n",
      "    Found Expression: (x2*(0.999999987821439*x2 + 1.13803970800754) - (x1 + x3)*(x2 - 5.9222185794028e-9))/(x2 - 5.9222185794028e-9)\n",
      "    MSE: 4.806899041518435e-08\n",
      "    NMSE: 9.953195058788003e-09\n",
      "    Complexity: 14\n",
      "    Elapsed Time: 0.14658784866333008\n",
      "\n",
      "Recovered!\n",
      "7.\n",
      "    Target Expression: 7.09897657758208*x2*(x2 + x3/(cos(log(x2)) + 1.94565204317107)) + x3\n",
      "    Found Expression: (1.84610512239147*x2 + 0.375390025396129)*(x2*(0.204690495476342*x3 + 3.74369134829942) + x3)\n",
      "    MSE: 1.9971983068537444\n",
      "    NMSE: 0.006544753224937257\n",
      "    Complexity: 15\n",
      "    Elapsed Time: 16.593477725982666\n",
      "\n",
      "8.\n",
      "    Target Expression: 5.69645342430412*x1 - 2.42992290915885*x2**2\n",
      "    Found Expression: 5.69645176788796*x1 + (6.47869279659499e-8*x1 - x2)*(2.42992232633019*x2 + 7.22827666396312e-6)\n",
      "    MSE: 5.283592949217098e-06\n",
      "    NMSE: 7.207775965285569e-08\n",
      "    Complexity: 15\n",
      "    Elapsed Time: 7.318500518798828\n",
      "\n",
      "Recovered!\n",
      "9.\n",
      "    Target Expression: (x1 + x3)**3 + 0.572951112915765\n",
      "    Found Expression: (x1 + x3)**3\n",
      "    MSE: 0.5728106360824645\n",
      "    NMSE: 0.0003486949253293774\n",
      "    Complexity: 4\n",
      "    Elapsed Time: 3.0920634269714355\n",
      "\n",
      "+++++++++++++++++++++++++++++++++++++++++++++++++++++++++++++++\n",
      "\n",
      "Total Elapsed Time: 0\n",
      "Mean MSE: 0.6383391935006437\n",
      "Mean NMSE: 0.03216458761115456\n",
      "Number of equations not found any answer: 0\n",
      "\n",
      "+++++++++++++++++++++++++++++++++++++++++++++++++++++++++++++++\n"
     ]
    }
   ],
   "source": [
    "import time\n",
    "import numpy as np\n",
    "from sympy import lambdify\n",
    "\n",
    "mses = []\n",
    "nmses = []\n",
    "times = []\n",
    "complexities = []\n",
    "not_found = 0\n",
    "\n",
    "# total_variables = ['x_1', 'x_2', 'x_3']\n",
    "\n",
    "\n",
    "# for i, (eq, supp) in enumerate(expressions):\n",
    "#     num_vars = 0\n",
    "    \n",
    "#     X = np.zeros((256, 3))\n",
    "#     for j, var in enumerate(total_variables):\n",
    "#         if var in eq: \n",
    "#             num_vars += 1\n",
    "#             X[:, j] = (torch.rand(256)*(supp[var][1] - supp[var][0]) + supp[var][0]).numpy()\n",
    "\n",
    "#     X_dict = {x:X[:,idx] for idx, x in enumerate(total_variables)} \n",
    "#     y = lambdify(\",\".join(total_variables), eq)(**X_dict)\n",
    "\n",
    "recovered = 0\n",
    "\n",
    "for i, obs in enumerate(data[:10]):\n",
    "    X = obs['X']\n",
    "    y = obs['y']\n",
    "    \n",
    "#     X = obs[:-1, :].permute(1, 0).numpy()\n",
    "#     y = obs[-1].numpy()\n",
    "    \n",
    "    ini_eq = time.time()\n",
    "    output = etin.get_expression(X, y, method='random', max_expressions=100)\n",
    "    fin_eq = time.time()\n",
    "    \n",
    "    times.append(fin_eq - ini_eq)\n",
    "    \n",
    "    try:\n",
    "        mses.append(output[0]['error']*np.std(y).item())\n",
    "        nmses.append(output[0]['error'])\n",
    "        complexities.append(len(output[0]['expression'].traversal))\n",
    "\n",
    "        print(i, '.', '\\n    Target Expression: ', obs['Target Expression'].to_sympy(),\n",
    "                      '\\n    Found Expression: ', output[0]['expression'].to_sympy(),\n",
    "                      '\\n    MSE: ', output[0]['error']*np.std(y).item(),\n",
    "                      '\\n    NMSE: ', output[0]['error'],\n",
    "                      '\\n    Complexity: ', len(output[0]['expression'].traversal),\n",
    "                      '\\n    Elapsed Time: ', fin_eq - ini_eq, '\\n', sep='')\n",
    "        \n",
    "        if (np.abs((obs['Target Expression'].evaluate(X) - output[0]['expression'].evaluate(X)))).mean() < 1e-3:\n",
    "            print('Recovered!')\n",
    "            recovered += 1\n",
    "    except:\n",
    "        not_found += 1\n",
    "\n",
    "print('+++++++++++++++++++++++++++++++++++++++++++++++++++++++++++++++\\n')\n",
    "print('Total Elapsed Time:', sum(times))\n",
    "print('Mean MSE:', sum(mses)/len(mses))\n",
    "print('Mean NMSE:', sum(nmses)/len(nmses))\n",
    "print('Number of equations not found any answer:', not_found)\n",
    "print('\\n+++++++++++++++++++++++++++++++++++++++++++++++++++++++++++++++')"
   ]
  },
  {
   "cell_type": "code",
   "execution_count": null,
   "id": "09179952",
   "metadata": {},
   "outputs": [],
   "source": [
    "print(np.mean(complexities), len(np.where(np.array(nmses) < 1e-6)[0]))\n",
    "print(np.median(nmses))"
   ]
  },
  {
   "cell_type": "code",
   "execution_count": null,
   "id": "e20272d3",
   "metadata": {},
   "outputs": [],
   "source": [
    "sum(times)"
   ]
  },
  {
   "cell_type": "code",
   "execution_count": null,
   "id": "353eecb9",
   "metadata": {},
   "outputs": [],
   "source": []
  },
  {
   "cell_type": "code",
   "execution_count": null,
   "id": "452ac611",
   "metadata": {},
   "outputs": [],
   "source": [
    "import plotly.express as px\n",
    "import matplotlib.pyplot as plt\n",
    "\n",
    "y_pre = [np.median(np.array(a)) for a in errors_pre_pre]\n",
    "y_post = [np.median(np.array(a)) for a in errors_pre]\n",
    "x = [i for i in range(100)]\n",
    "\n",
    "import pandas as pd\n",
    "\n",
    "df = pd.DataFrame({'x' : x+x, 'y': y_pre+y_post, 'RL phase': ['No' for i in range(len(y_pre))] + ['Yes' for i in range(len(y_post))]})\n",
    "\n",
    "fig = px.line(df, x='x', y='y', color='RL phase', log_y=True)\n",
    "fig.update_xaxes(title=r'$M$')\n",
    "fig.update_yaxes(title=r'$\\text{Median } NRMSE$')\n",
    "fig.update_layout(width=850)\n",
    "\n",
    "# plt.plot(x, y_pre)\n",
    "# plt.plot(x, y_post)\n",
    "# plt.yscale('log')"
   ]
  },
  {
   "cell_type": "code",
   "execution_count": null,
   "id": "cfa8b1e5",
   "metadata": {},
   "outputs": [],
   "source": [
    "import matplotlib.pyplot as plt\n",
    "\n",
    "y = [np.median(np.array(a)) for a in errors]\n",
    "x = [i for i in range(100)]\n",
    "\n",
    "plt.plot(x, y)\n",
    "plt.yscale('log')"
   ]
  },
  {
   "cell_type": "code",
   "execution_count": null,
   "id": "80a49e13",
   "metadata": {},
   "outputs": [],
   "source": [
    "y"
   ]
  },
  {
   "cell_type": "code",
   "execution_count": null,
   "id": "db45f5c0",
   "metadata": {},
   "outputs": [],
   "source": [
    "import plotly.express as px\n",
    "y_plot = [yi for yi in nmses if yi <= 0.1]\n",
    "fig = px.histogram(x=y_plot)\n",
    "fig.show()"
   ]
  },
  {
   "cell_type": "code",
   "execution_count": null,
   "id": "cfbb6e8b",
   "metadata": {},
   "outputs": [],
   "source": [
    "import numpy as np\n",
    "\n",
    "np.random.seed(28)\n",
    "\n",
    "lower_bound = np.random.uniform(0.05, 6, size=2)  # Lower bound of the variables\n",
    "upper_bound = [np.random.uniform(lower_bound[i] + 1, 10) for i in range(2)] # Upper bound of the variables\n",
    "X = np.concatenate([np.random.uniform(lower_bound[i], upper_bound[i], (100, 1)) for i in range(2)], axis=1)\n",
    "\n",
    "def f(X):\n",
    "    res = []\n",
    "    for i in range(X.shape[0]):\n",
    "        res.append(np.sin(X[i, 0]) + 1)\n",
    "    return np.array(res)\n",
    "\n",
    "y = f(X)"
   ]
  },
  {
   "cell_type": "code",
   "execution_count": null,
   "id": "b1a352b9",
   "metadata": {},
   "outputs": [],
   "source": [
    "import importlib\n",
    "import scripts.etin\n",
    "importlib.reload(scripts.etin)\n",
    "import scripts.model\n",
    "importlib.reload(scripts.model)\n",
    "\n",
    "etin = scripts.etin.ETIN(config.Language, config.Model, seed=10)"
   ]
  },
  {
   "cell_type": "code",
   "execution_count": null,
   "id": "79373857",
   "metadata": {},
   "outputs": [],
   "source": [
    "import time\n",
    "ini = time.time()\n",
    "res = etin.get_expression(X, y, method='beam search', beam_mode='min')\n",
    "print(time.time() - ini)"
   ]
  },
  {
   "cell_type": "code",
   "execution_count": null,
   "id": "81a06619",
   "metadata": {},
   "outputs": [],
   "source": [
    "res"
   ]
  }
 ],
 "metadata": {
  "kernelspec": {
   "display_name": "Python 3 (ipykernel)",
   "language": "python",
   "name": "python3"
  },
  "language_info": {
   "codemirror_mode": {
    "name": "ipython",
    "version": 3
   },
   "file_extension": ".py",
   "mimetype": "text/x-python",
   "name": "python",
   "nbconvert_exporter": "python",
   "pygments_lexer": "ipython3",
   "version": "3.8.13"
  },
  "latex_envs": {
   "LaTeX_envs_menu_present": true,
   "autoclose": false,
   "autocomplete": true,
   "bibliofile": "biblio.bib",
   "cite_by": "apalike",
   "current_citInitial": 1,
   "eqLabelWithNumbers": true,
   "eqNumInitial": 1,
   "hotkeys": {
    "equation": "Ctrl-E",
    "itemize": "Ctrl-I"
   },
   "labels_anchors": false,
   "latex_user_defs": false,
   "report_style_numbering": false,
   "user_envs_cfg": false
  },
  "toc": {
   "base_numbering": 1,
   "nav_menu": {},
   "number_sections": true,
   "sideBar": true,
   "skip_h1_title": false,
   "title_cell": "Table of Contents",
   "title_sidebar": "Contents",
   "toc_cell": false,
   "toc_position": {},
   "toc_section_display": true,
   "toc_window_display": false
  }
 },
 "nbformat": 4,
 "nbformat_minor": 5
}
