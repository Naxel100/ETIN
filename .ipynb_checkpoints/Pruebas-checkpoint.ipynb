{
 "cells": [
  {
   "cell_type": "code",
   "execution_count": 1,
   "id": "3c2343ae",
   "metadata": {},
   "outputs": [],
   "source": [
    "from scripts.etin import ETIN\n",
    "\n",
    "import yaml\n",
    "import torch\n",
    "import pandas as pd\n",
    "import plotly.express as px\n",
    "import plotly.graph_objs as go\n",
    "\n",
    "class DotDict(dict):     \n",
    "    \"\"\"dot.notation access to dictionary attributes\"\"\"      \n",
    "    def __getattr__(*args):         \n",
    "        val = dict.get(*args)        \n",
    "        return DotDict(val) if type(val) is dict else val              \n",
    "    __setattr__ = dict.__setitem__     \n",
    "    __delattr__ = dict.__delitem__\n",
    "\n",
    "\n",
    "with open(\"./config/config.yaml\", 'r') as stream:\n",
    "    config = yaml.safe_load(stream)\n",
    "\n",
    "config = DotDict(config)"
   ]
  },
  {
   "cell_type": "code",
   "execution_count": 2,
   "id": "cfbb6e8b",
   "metadata": {},
   "outputs": [],
   "source": [
    "import numpy as np\n",
    "\n",
    "np.random.seed(28)\n",
    "\n",
    "lower_bound = np.random.uniform(0.05, 6, size=2)  # Lower bound of the variables\n",
    "upper_bound = [np.random.uniform(lower_bound[i] + 1, 10) for i in range(2)] # Upper bound of the variables\n",
    "X = np.concatenate([np.random.uniform(lower_bound[i], upper_bound[i], (100, 1)) for i in range(2)], axis=1)\n",
    "\n",
    "def f(X):\n",
    "    res = []\n",
    "    for i in range(X.shape[0]):\n",
    "        res.append(np.sin(X[i, 0]) + 1)\n",
    "    return np.array(res)\n",
    "\n",
    "y = f(X)"
   ]
  },
  {
   "cell_type": "code",
   "execution_count": 3,
   "id": "b1a352b9",
   "metadata": {},
   "outputs": [
    {
     "name": "stderr",
     "output_type": "stream",
     "text": [
      "Global seed set to 10\n"
     ]
    }
   ],
   "source": [
    "import importlib\n",
    "import scripts.etin\n",
    "importlib.reload(scripts.etin)\n",
    "import scripts.model\n",
    "importlib.reload(scripts.model)\n",
    "\n",
    "etin = scripts.etin.ETIN(config.Language, config.Model, seed=10)"
   ]
  },
  {
   "cell_type": "code",
   "execution_count": 4,
   "id": "79373857",
   "metadata": {},
   "outputs": [
    {
     "name": "stdout",
     "output_type": "stream",
     "text": [
      "0\n",
      "0\n",
      "Traversal: [3, 0, 14, 3, 11, 0, 16]\n",
      "y_pred: [4.62167985 4.19320415 3.68218433 4.73709138 4.90050509 4.94689676\n",
      " 3.69758084 4.92530691 3.7624977  3.44337508]\n",
      "0 0 [3, 0, 14, 3, 11, 0, 16] 17.877518649623354\n",
      "1\n",
      "Traversal: [3, 9, 3, 11, 1, 11, 4, 7, 9, 7, 3, 16, 16, 16, 16]\n",
      "y_pred: [0.2429881  0.21093772 0.24815461 0.23022792 0.21984403 0.20540173\n",
      " 0.22469736 0.22872577 0.26109479 0.24336595]\n",
      "0 1 [3, 9, 3, 11, 1, 11, 4, 7, 9, 7, 3, 16, 16, 16, 16] 0.9969885097194425\n",
      "2\n",
      "Traversal: [3, 6, 2, 16, 9, 3, 3, 12, 4, 11, 0, 15, 2, 0, 2]\n",
      "y_pred: [0.13009823 0.14077341 0.15635515 0.12751531 0.12404122 0.12309165\n",
      " 0.15582936 0.12353162 0.15365532 0.16505522]\n",
      "0 2 [3, 6, 2, 16, 9, 3, 3, 12, 4, 11, 0, 15, 2, 0, 2] 1.1224223171382994\n",
      "3\n",
      "Traversal: [3, 16, 9, 4, 8, 15, 4, 9, 0, 8, 4, 1, 0, 16]\n",
      "y_pred: [0.23426529 0.22586459 0.22790598 0.23020587 0.22659316 0.22573207\n",
      " 0.22587696 0.23044063 0.23145389 0.22611681]\n",
      "0 3 [3, 16, 9, 4, 8, 15, 4, 9, 0, 8, 4, 1, 0, 16] 0.9999469194747318\n",
      "4\n",
      "Traversal: [3, 2, 0]\n",
      "y_pred: [5.61928153 5.19315816 4.67562853 5.73310455 5.89367452 5.93914021\n",
      " 4.69140447 5.91798758 4.75778231 4.42917582]\n",
      "0 4 [3, 2, 0] 22.300064923720896\n",
      "5\n",
      "Traversal: [3, 8, 4, 16, 10, 16, 13, 15, 9, 4, 1, 2]\n",
      "y_pred: [0.22491884 0.23234738 0.22336007 0.22831974 0.23064472 0.2332795\n",
      " 0.2296053  0.22867981 0.21896746 0.22480849]\n",
      "0 5 [3, 8, 4, 16, 10, 16, 13, 15, 9, 4, 1, 2] 1.0016204782747264\n",
      "6\n",
      "Traversal: [3, 5, 0, 7, 5, 2, 10, 15, 10, 0, 3, 8, 15, 0, 2]\n",
      "y_pred: [ 4.88545616e-01  9.89068078e-02 -4.96419896e-05  6.19521134e-01\n",
      "  7.91696855e-01  8.34295252e-01 -9.23848426e-06  8.14919645e-01\n",
      "  9.34390722e-05 -2.18210760e-02]\n",
      "0 6 [3, 5, 0, 7, 5, 2, 10, 15, 10, 0, 3, 8, 15, 0, 2] 0.388099710406868\n",
      "7\n",
      "Traversal: [3, 3, 11, 3, 3, 12, 0, 15, 13, 3, 16, 16, 1, 0, 2]\n",
      "y_pred: [11.2498984  10.41320673  9.37827463 11.47820684 11.79916371 11.89222917\n",
      "  9.41907158 11.84616483  9.5367462   8.89496414]\n",
      "0 7 [3, 3, 11, 3, 3, 12, 0, 15, 13, 3, 16, 16, 1, 0, 2] 45.76883287392635\n",
      "8\n",
      "Traversal: [3, 5, 15, 9, 11, 5, 2, 4, 16, 6, 16, 0, 1, 10, 2]\n",
      "y_pred: [nan nan nan nan nan nan nan nan nan nan]\n",
      "9\n",
      "Traversal: [3, 16, 2]\n",
      "y_pred: [0.22824318 0.22824318 0.22824318 0.22824318 0.22824318 0.22824318\n",
      " 0.22824318 0.22824318 0.22824318 0.22824318]\n",
      "0 9 [3, 16, 2] 1.0\n",
      "Voy a actualizar porque antes era inf y ahora es 10.161721598031628\n",
      "1\n",
      "0\n",
      "Traversal: [16]\n",
      "y_pred: [0.22824318 0.22824318 0.22824318 0.22824318 0.22824318 0.22824318\n",
      " 0.22824318 0.22824318 0.22824318 0.22824318]\n",
      "1 0 [16] 1.0000000000000002\n",
      "1\n",
      "Traversal: [16]\n",
      "y_pred: [0.22824317 0.22824317 0.22824317 0.22824317 0.22824317 0.22824317\n",
      " 0.22824317 0.22824317 0.22824317 0.22824317]\n",
      "1 1 [16] 1.0000000000000007\n",
      "2\n",
      "Traversal: [16]\n",
      "y_pred: [0.22824317 0.22824317 0.22824317 0.22824317 0.22824317 0.22824317\n",
      " 0.22824317 0.22824317 0.22824317 0.22824317]\n",
      "1 2 [16] 1.0000000000000007\n",
      "3\n",
      "Traversal: [16]\n",
      "y_pred: [0.22824318 0.22824318 0.22824318 0.22824318 0.22824318 0.22824318\n",
      " 0.22824318 0.22824318 0.22824318 0.22824318]\n",
      "1 3 [16] 1.0\n",
      "4\n",
      "Traversal: [16]\n",
      "y_pred: [0.22824317 0.22824317 0.22824317 0.22824317 0.22824317 0.22824317\n",
      " 0.22824317 0.22824317 0.22824317 0.22824317]\n",
      "1 4 [16] 1.0000000000000016\n",
      "5\n",
      "Traversal: [16]\n",
      "y_pred: [0.22824318 0.22824318 0.22824318 0.22824318 0.22824318 0.22824318\n",
      " 0.22824318 0.22824318 0.22824318 0.22824318]\n",
      "1 5 [16] 1.0000000000000002\n",
      "6\n",
      "Traversal: [16]\n",
      "y_pred: [0.22824317 0.22824317 0.22824317 0.22824317 0.22824317 0.22824317\n",
      " 0.22824317 0.22824317 0.22824317 0.22824317]\n",
      "1 6 [16] 1.0000000000000007\n",
      "7\n",
      "Traversal: [16]\n",
      "y_pred: [0.22824317 0.22824317 0.22824317 0.22824317 0.22824317 0.22824317\n",
      " 0.22824317 0.22824317 0.22824317 0.22824317]\n",
      "1 7 [16] 1.0000000000000007\n",
      "8\n",
      "Traversal: [16]\n",
      "y_pred: [0.22824318 0.22824318 0.22824318 0.22824318 0.22824318 0.22824318\n",
      " 0.22824318 0.22824318 0.22824318 0.22824318]\n",
      "1 8 [16] 1.0\n",
      "9\n",
      "Traversal: [16]\n",
      "y_pred: [0.22824318 0.22824318 0.22824318 0.22824318 0.22824318 0.22824318\n",
      " 0.22824318 0.22824318 0.22824318 0.22824318]\n",
      "1 9 [16] 1.0\n",
      "Voy a actualizar porque antes era 10.161721598031628 y ahora es 1.0000000000000004\n",
      "Program: [16]\n",
      "3.8705010414123535\n"
     ]
    },
    {
     "name": "stderr",
     "output_type": "stream",
     "text": [
      "/home/gridsan/amorenas/ETIN3/scripts/language.py:21: RuntimeWarning: divide by zero encountered in log\n",
      "  return np.where(np.abs(x1) > 1e-5, np.log(np.abs(x1)), np.zeros(1))\n",
      "/home/gridsan/amorenas/ETIN3/scripts/expression.py:87: RuntimeWarning: divide by zero encountered in reciprocal\n",
      "  stack.append(function.function(first_operand))\n",
      "/home/gridsan/amorenas/ETIN3/scripts/expression.py:87: RuntimeWarning: invalid value encountered in cos\n",
      "  stack.append(function.function(first_operand))\n"
     ]
    }
   ],
   "source": [
    "import time\n",
    "ini = time.time()\n",
    "res = etin.get_expression(X, y, method='beam search', beam_mode='min')\n",
    "print(time.time() - ini)"
   ]
  },
  {
   "cell_type": "code",
   "execution_count": 5,
   "id": "81a06619",
   "metadata": {},
   "outputs": [
    {
     "data": {
      "text/plain": [
       "[{'expression': <scripts.expression.Expression at 0x7f398c12a880>,\n",
       "  'error': 0.388099710406868,\n",
       "  'complexity': 4.866666666666667},\n",
       " {'expression': <scripts.expression.Expression at 0x7f398e18af40>,\n",
       "  'error': 0.9969885097194425,\n",
       "  'complexity': 2.8000000000000003},\n",
       " {'expression': <scripts.expression.Expression at 0x7f398c13c3d0>,\n",
       "  'error': 1.0,\n",
       "  'complexity': 0}]"
      ]
     },
     "execution_count": 5,
     "metadata": {},
     "output_type": "execute_result"
    }
   ],
   "source": [
    "res"
   ]
  }
 ],
 "metadata": {
  "kernelspec": {
   "display_name": "Python 3 (ipykernel)",
   "language": "python",
   "name": "python3"
  },
  "language_info": {
   "codemirror_mode": {
    "name": "ipython",
    "version": 3
   },
   "file_extension": ".py",
   "mimetype": "text/x-python",
   "name": "python",
   "nbconvert_exporter": "python",
   "pygments_lexer": "ipython3",
   "version": "3.8.13"
  },
  "latex_envs": {
   "LaTeX_envs_menu_present": true,
   "autoclose": false,
   "autocomplete": true,
   "bibliofile": "biblio.bib",
   "cite_by": "apalike",
   "current_citInitial": 1,
   "eqLabelWithNumbers": true,
   "eqNumInitial": 1,
   "hotkeys": {
    "equation": "Ctrl-E",
    "itemize": "Ctrl-I"
   },
   "labels_anchors": false,
   "latex_user_defs": false,
   "report_style_numbering": false,
   "user_envs_cfg": false
  },
  "toc": {
   "base_numbering": 1,
   "nav_menu": {},
   "number_sections": true,
   "sideBar": true,
   "skip_h1_title": false,
   "title_cell": "Table of Contents",
   "title_sidebar": "Contents",
   "toc_cell": false,
   "toc_position": {},
   "toc_section_display": true,
   "toc_window_display": false
  }
 },
 "nbformat": 4,
 "nbformat_minor": 5
}
